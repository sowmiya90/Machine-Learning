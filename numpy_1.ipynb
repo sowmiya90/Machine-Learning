{
 "cells": [
  {
   "cell_type": "markdown",
   "metadata": {},
   "source": [
    "1. Write a NumPy program to get the numpy version and show numpy build configuration."
   ]
  },
  {
   "cell_type": "code",
   "execution_count": 3,
   "metadata": {},
   "outputs": [
    {
     "name": "stdout",
     "output_type": "stream",
     "text": [
      "1.16.5\n",
      "<module 'numpy.__config__' from 'C:\\\\Anaconda\\\\lib\\\\site-packages\\\\numpy\\\\__config__.py'>\n"
     ]
    }
   ],
   "source": [
    "import numpy as np\n",
    "print(np.version.version)\n",
    "print(np.__config__)"
   ]
  },
  {
   "cell_type": "markdown",
   "metadata": {},
   "source": [
    "2. Create a null vector of size 10 but the fifth value which is 1."
   ]
  },
  {
   "cell_type": "code",
   "execution_count": 4,
   "metadata": {},
   "outputs": [
    {
     "name": "stdout",
     "output_type": "stream",
     "text": [
      "[0. 0. 0. 0. 1. 0. 0. 0. 0. 0.]\n"
     ]
    }
   ],
   "source": [
    "z = np.zeros(10)\n",
    "z[4] = 1\n",
    "print(z)"
   ]
  },
  {
   "cell_type": "markdown",
   "metadata": {},
   "source": [
    "Create a vector with values ranging from 10 to 49."
   ]
  },
  {
   "cell_type": "code",
   "execution_count": 8,
   "metadata": {},
   "outputs": [
    {
     "name": "stdout",
     "output_type": "stream",
     "text": [
      "[10 11 12 13 14 15 16 17 18 19 20 21 22 23 24 25 26 27 28 29 30 31 32 33\n",
      " 34 35 36 37 38 39 40 41 42 43 44 45 46 47 48 49]\n"
     ]
    }
   ],
   "source": [
    "a = np.arange(10,50)\n",
    "print(a)"
   ]
  },
  {
   "cell_type": "markdown",
   "metadata": {},
   "source": [
    "3. create two arrays and stack them vertically"
   ]
  },
  {
   "cell_type": "code",
   "execution_count": 10,
   "metadata": {},
   "outputs": [
    {
     "name": "stdout",
     "output_type": "stream",
     "text": [
      "[[1 2 3 4]\n",
      " [5 6 7 8]]\n"
     ]
    }
   ],
   "source": [
    "ar1 = np.array([1, 2, 3 ,4])\n",
    "ar2 = np.array([5, 6, 7, 8])\n",
    "\n",
    "stac = np.vstack((ar1,ar2))\n",
    "print(stac)"
   ]
  },
  {
   "cell_type": "markdown",
   "metadata": {},
   "source": [
    "4. Reverse a vector (first element becomes last)."
   ]
  },
  {
   "cell_type": "code",
   "execution_count": 13,
   "metadata": {},
   "outputs": [
    {
     "name": "stdout",
     "output_type": "stream",
     "text": [
      "[5 4 3 2 1]\n"
     ]
    }
   ],
   "source": [
    "ar1 = np.array([1, 2, 3, 4, 5])\n",
    "ar_reverse = ar1[::-1]\n",
    "print(ar_reverse)"
   ]
  },
  {
   "cell_type": "markdown",
   "metadata": {},
   "source": [
    "5. Create a 3x3 matrix with values ranging from 0 to 8"
   ]
  },
  {
   "cell_type": "code",
   "execution_count": 19,
   "metadata": {},
   "outputs": [
    {
     "name": "stdout",
     "output_type": "stream",
     "text": [
      "[[0 1 2]\n",
      " [3 4 5]\n",
      " [6 7 8]]\n"
     ]
    }
   ],
   "source": [
    "ar = np.arange(0,9).reshape(3,3)\n",
    "print(ar)"
   ]
  },
  {
   "cell_type": "markdown",
   "metadata": {},
   "source": [
    "6. Find indices of non-zero elements from [1,2,0,0,4,0]"
   ]
  },
  {
   "cell_type": "code",
   "execution_count": 23,
   "metadata": {},
   "outputs": [
    {
     "name": "stdout",
     "output_type": "stream",
     "text": [
      "(array([0, 1, 4], dtype=int64),)\n"
     ]
    }
   ],
   "source": [
    "ar = np.array([1,2,0,0,4,0])\n",
    "print(np.nonzero(ar))"
   ]
  },
  {
   "cell_type": "markdown",
   "metadata": {},
   "source": [
    "7. Create a 10x10 array with random values and find the minimum and maximum values."
   ]
  },
  {
   "cell_type": "code",
   "execution_count": 26,
   "metadata": {},
   "outputs": [
    {
     "name": "stdout",
     "output_type": "stream",
     "text": [
      "[[ 9 88  6 29 24 26 34 53 62 77]\n",
      " [53 62 87 32 51 99 18 38 94 86]\n",
      " [78 93 22 82 73  9 88 54 21 84]\n",
      " [94 91 50 49 62  7 94 47 76 54]\n",
      " [39 92 37 72 82 56 11 58 57 40]\n",
      " [88 87 78 27 32  8 70 50 93  4]\n",
      " [ 6 43 95  0 24 90 42 58 86 71]\n",
      " [26  2 27 95 66 98 37 58 27 93]\n",
      " [37 65 14 42 21 72 54  1 51 81]\n",
      " [54 63 45 25 82 81 76 72 17 76]]\n",
      "99\n",
      "0\n"
     ]
    }
   ],
   "source": [
    "ar = np.random.randint(0,100,(10,10))\n",
    "print(ar)\n",
    "print(ar.max())\n",
    "print(ar.min())\n"
   ]
  },
  {
   "cell_type": "markdown",
   "metadata": {},
   "source": [
    "8. Create a random vector of size 30 and find the mean value."
   ]
  },
  {
   "cell_type": "code",
   "execution_count": 35,
   "metadata": {},
   "outputs": [
    {
     "name": "stdout",
     "output_type": "stream",
     "text": [
      "[114 123 135 174 162 198 117 132 143 195 151 130 120 160 199 193 186 135\n",
      " 140 130 120 117 185 103 143 174 168 121 120 184]\n",
      "size =  30\n",
      "mean =  149.06666666666666\n"
     ]
    }
   ],
   "source": [
    "ar = np.random.randint(100,200,size = 30)\n",
    "print(ar)\n",
    "print(\"size = \",ar.size)\n",
    "print(\"mean = \",ar.mean())"
   ]
  },
  {
   "cell_type": "markdown",
   "metadata": {},
   "source": [
    "9. Create a 2d array with 1 on the border and 0 inside"
   ]
  },
  {
   "cell_type": "code",
   "execution_count": 40,
   "metadata": {},
   "outputs": [
    {
     "name": "stdout",
     "output_type": "stream",
     "text": [
      "[[1. 1. 1. 1. 1.]\n",
      " [1. 0. 0. 0. 1.]\n",
      " [1. 0. 0. 0. 1.]\n",
      " [1. 0. 0. 0. 1.]\n",
      " [1. 1. 1. 1. 1.]]\n"
     ]
    }
   ],
   "source": [
    "ar = np.ones((5,5))\n",
    "ar[1:-1, 1:-1] = 0\n",
    "print(ar)"
   ]
  },
  {
   "cell_type": "markdown",
   "metadata": {},
   "source": [
    "10. How to add a border (filled with 0's) around an existing array"
   ]
  },
  {
   "cell_type": "code",
   "execution_count": 71,
   "metadata": {},
   "outputs": [
    {
     "data": {
      "text/plain": [
       "array([[ 0,  0,  0,  0,  0,  0,  0],\n",
       "       [ 0, 25,  3,  9, 25, 17,  0],\n",
       "       [ 0,  6,  7, 12, 23,  3,  0],\n",
       "       [ 0, 25, 16, 18,  8,  6,  0],\n",
       "       [ 0, 25,  6, 18, 18, 11,  0],\n",
       "       [ 0,  1, 13, 10, 23, 25,  0],\n",
       "       [ 0,  0,  0,  0,  0,  0,  0]])"
      ]
     },
     "execution_count": 71,
     "metadata": {},
     "output_type": "execute_result"
    }
   ],
   "source": [
    "ar = np.random.randint(0, 30,(5,5))\n",
    "np.pad(ar,(1,1), mode = 'constant')"
   ]
  },
  {
   "cell_type": "markdown",
   "metadata": {},
   "source": [
    "11. Create a 5x5 matrix with values 1,2,3,4 just below the diagonal"
   ]
  },
  {
   "cell_type": "code",
   "execution_count": 74,
   "metadata": {},
   "outputs": [
    {
     "name": "stdout",
     "output_type": "stream",
     "text": [
      "[[0. 0. 0. 0. 0.]\n",
      " [1. 0. 0. 0. 0.]\n",
      " [0. 2. 0. 0. 0.]\n",
      " [0. 0. 3. 0. 0.]\n",
      " [0. 0. 0. 4. 0.]]\n"
     ]
    }
   ],
   "source": [
    "ar = np.zeros((5,5))\n",
    "ar[1,0]=1\n",
    "ar[2,1] = 2\n",
    "ar[3,2] = 3\n",
    "ar[4,3] = 4\n",
    "print(ar)"
   ]
  },
  {
   "cell_type": "markdown",
   "metadata": {},
   "source": [
    "12. Create a 5*5 matrix with random values and normalize it."
   ]
  },
  {
   "cell_type": "code",
   "execution_count": 3,
   "metadata": {},
   "outputs": [
    {
     "name": "stdout",
     "output_type": "stream",
     "text": [
      "[[71 93 44 24 99]\n",
      " [39 24 46 79 46]\n",
      " [81 66 49 67 24]\n",
      " [59 12 37 94 36]\n",
      " [45 73 81 90 86]]\n",
      "[[0.67816092 0.93103448 0.36781609 0.13793103 1.        ]\n",
      " [0.31034483 0.13793103 0.3908046  0.77011494 0.3908046 ]\n",
      " [0.79310345 0.62068966 0.42528736 0.63218391 0.13793103]\n",
      " [0.54022989 0.         0.28735632 0.94252874 0.27586207]\n",
      " [0.37931034 0.70114943 0.79310345 0.89655172 0.85057471]]\n"
     ]
    }
   ],
   "source": [
    "import numpy as np\n",
    "n = np.random.randint(0,100, (5,5))\n",
    "print(n)\n",
    "n_max = n.max()\n",
    "n_min = n.min()\n",
    "norm_n = (n-n_min)/(n_max-n_min)\n",
    "print(norm_n)"
   ]
  },
  {
   "cell_type": "markdown",
   "metadata": {},
   "source": [
    "13. How to find common values between two arrays"
   ]
  },
  {
   "cell_type": "code",
   "execution_count": 4,
   "metadata": {},
   "outputs": [
    {
     "name": "stdout",
     "output_type": "stream",
     "text": [
      "2\n",
      "3\n",
      "4\n"
     ]
    }
   ],
   "source": [
    "a = np.array([1,2,3,4,5,6])\n",
    "b = np.array([3,8,9,2,4,0])\n",
    "for element in a:\n",
    "    if element in b:\n",
    "        print(element)\n",
    "    else:\n",
    "        pass\n",
    "    "
   ]
  },
  {
   "cell_type": "markdown",
   "metadata": {},
   "source": [
    "OR"
   ]
  },
  {
   "cell_type": "code",
   "execution_count": 6,
   "metadata": {},
   "outputs": [
    {
     "data": {
      "text/plain": [
       "array([2, 3, 4])"
      ]
     },
     "execution_count": 6,
     "metadata": {},
     "output_type": "execute_result"
    }
   ],
   "source": [
    "a = np.array([1,2,3,4,5,6])\n",
    "b = np.array([3,8,9,2,4,0])\n",
    "c = np.intersect1d(a,b)\n",
    "c"
   ]
  },
  {
   "cell_type": "markdown",
   "metadata": {},
   "source": [
    "14. Consider a generator function that generates 10 integers and use it to build an array"
   ]
  },
  {
   "cell_type": "code",
   "execution_count": 8,
   "metadata": {},
   "outputs": [
    {
     "data": {
      "text/plain": [
       "array([0, 1, 2, 3, 4, 5, 6, 7, 8, 9])"
      ]
     },
     "execution_count": 8,
     "metadata": {},
     "output_type": "execute_result"
    }
   ],
   "source": [
    "def generator():\n",
    "    return np.arange(10)\n",
    "s = generator()\n",
    "s"
   ]
  },
  {
   "cell_type": "markdown",
   "metadata": {},
   "source": [
    "15. Subtract the mean of each row of a matrix"
   ]
  },
  {
   "cell_type": "code",
   "execution_count": 13,
   "metadata": {},
   "outputs": [
    {
     "name": "stdout",
     "output_type": "stream",
     "text": [
      "[[29 25 80 98 65]\n",
      " [32 20 78 28  2]\n",
      " [43 47 15 22  2]\n",
      " [91 26 85 82 62]\n",
      " [25 70 35 93 68]\n",
      " [71 15 16  1 42]\n",
      " [41 75 20  0 47]\n",
      " [69 48 52 17 18]\n",
      " [72 86 21 10 57]\n",
      " [93 74 46 26 10]]\n",
      "45.0\n",
      "[[ 16.  20. -35. -53. -20.]\n",
      " [ 13.  25. -33.  17.  43.]\n",
      " [  2.  -2.  30.  23.  43.]\n",
      " [-46.  19. -40. -37. -17.]\n",
      " [ 20. -25.  10. -48. -23.]\n",
      " [-26.  30.  29.  44.   3.]\n",
      " [  4. -30.  25.  45.  -2.]\n",
      " [-24.  -3.  -7.  28.  27.]\n",
      " [-27. -41.  24.  35. -12.]\n",
      " [-48. -29.  -1.  19.  35.]]\n"
     ]
    }
   ],
   "source": [
    "a = np.random.randint(0,100,(10,5))\n",
    "print(a)\n",
    "b = np.mean(a)\n",
    "print(b)\n",
    "c = b-a\n",
    "print(c)"
   ]
  },
  {
   "cell_type": "markdown",
   "metadata": {},
   "source": [
    "16. Considering two arrays with shape (1,3) and (3,1), how to compute their sum using an iterator?"
   ]
  },
  {
   "cell_type": "code",
   "execution_count": 22,
   "metadata": {},
   "outputs": [
    {
     "name": "stdout",
     "output_type": "stream",
     "text": [
      "[[0 3 6]]\n",
      "[[8]\n",
      " [6]\n",
      " [1]]\n",
      "[[[ 8  6  1]\n",
      "  [11  9  4]\n",
      "  [14 12  7]]]\n"
     ]
    }
   ],
   "source": [
    "a = np.random.randint(0,10,(1,3))\n",
    "b = np.random.randint(0,10,(3,1))\n",
    "print(a)\n",
    "print(b)\n",
    "c = []\n",
    "for i in np.nditer(a):\n",
    "    for m in np.nditer(b):\n",
    "        c .append(np.sum(i+m))\n",
    "print(np.array(c).reshape(1,3,3))"
   ]
  },
  {
   "cell_type": "markdown",
   "metadata": {},
   "source": [
    "17. Write a NumPy program to create a vector of length 10 with values evenly distributed between 5 and 50."
   ]
  },
  {
   "cell_type": "code",
   "execution_count": 26,
   "metadata": {},
   "outputs": [
    {
     "data": {
      "text/plain": [
       "array([ 5, 10, 15, 20, 25, 30, 35, 40, 45, 50])"
      ]
     },
     "execution_count": 26,
     "metadata": {},
     "output_type": "execute_result"
    }
   ],
   "source": [
    "a = np.arange(5,51,5)\n",
    "a"
   ]
  },
  {
   "cell_type": "markdown",
   "metadata": {},
   "source": [
    "OR"
   ]
  },
  {
   "cell_type": "code",
   "execution_count": 28,
   "metadata": {},
   "outputs": [
    {
     "data": {
      "text/plain": [
       "array([ 5., 10., 15., 20., 25., 30., 35., 40., 45., 50.])"
      ]
     },
     "execution_count": 28,
     "metadata": {},
     "output_type": "execute_result"
    }
   ],
   "source": [
    "np.linspace(5,50,10)"
   ]
  }
 ],
 "metadata": {
  "kernelspec": {
   "display_name": "Python 3",
   "language": "python",
   "name": "python3"
  },
  "language_info": {
   "codemirror_mode": {
    "name": "ipython",
    "version": 3
   },
   "file_extension": ".py",
   "mimetype": "text/x-python",
   "name": "python",
   "nbconvert_exporter": "python",
   "pygments_lexer": "ipython3",
   "version": "3.7.5"
  }
 },
 "nbformat": 4,
 "nbformat_minor": 2
}
