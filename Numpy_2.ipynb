{
 "cells": [
  {
   "cell_type": "markdown",
   "metadata": {},
   "source": [
    "1. Create an array and find sum of it."
   ]
  },
  {
   "cell_type": "code",
   "execution_count": 4,
   "metadata": {},
   "outputs": [
    {
     "name": "stdout",
     "output_type": "stream",
     "text": [
      "[22 23 83 45 25 17 82 28 90 55]\n"
     ]
    },
    {
     "data": {
      "text/plain": [
       "470"
      ]
     },
     "execution_count": 4,
     "metadata": {},
     "output_type": "execute_result"
    }
   ],
   "source": [
    "import numpy as np\n",
    "a = np.random.randint(0,100,10)\n",
    "print(a)\n",
    "b = np.sum(a)\n",
    "b"
   ]
  },
  {
   "cell_type": "markdown",
   "metadata": {},
   "source": [
    "2. Find sin of given array."
   ]
  },
  {
   "cell_type": "code",
   "execution_count": 6,
   "metadata": {},
   "outputs": [
    {
     "data": {
      "text/plain": [
       "array([ 0.        , -0.98803162,  0.85090352, -0.30481062,  0.89399666])"
      ]
     },
     "execution_count": 6,
     "metadata": {},
     "output_type": "execute_result"
    }
   ],
   "source": [
    "a= np.array([0,30,45,60,90])\n",
    "b = np.sin(a)\n",
    "b"
   ]
  },
  {
   "cell_type": "markdown",
   "metadata": {},
   "source": [
    "3. Find mean of matrix along row and column."
   ]
  },
  {
   "cell_type": "code",
   "execution_count": 12,
   "metadata": {},
   "outputs": [
    {
     "name": "stdout",
     "output_type": "stream",
     "text": [
      "[[7 2 5]\n",
      " [1 5 9]\n",
      " [3 8 6]]\n",
      "[4.66666667 5.         5.66666667]\n",
      "[3.66666667 5.         6.66666667]\n"
     ]
    }
   ],
   "source": [
    "a = np.random.randint(0,10,(3,3))\n",
    "print(a)\n",
    "row = np.mean(a,axis = 1)\n",
    "print(row)\n",
    "column = np.mean(a,axis = 0)\n",
    "print(column)"
   ]
  },
  {
   "cell_type": "markdown",
   "metadata": {},
   "source": [
    "4. Find standard deviation of given array."
   ]
  },
  {
   "cell_type": "code",
   "execution_count": 18,
   "metadata": {},
   "outputs": [
    {
     "name": "stdout",
     "output_type": "stream",
     "text": [
      "[[7 2 5]\n",
      " [1 5 9]\n",
      " [3 8 6]]\n"
     ]
    },
    {
     "data": {
      "text/plain": [
       "2.5579698740491863"
      ]
     },
     "execution_count": 18,
     "metadata": {},
     "output_type": "execute_result"
    }
   ],
   "source": [
    "print(a)\n",
    "sd = np.std(a)\n",
    "sd"
   ]
  },
  {
   "cell_type": "markdown",
   "metadata": {},
   "source": [
    "5. Create a 3*3 matrix and print it's transpose matrix"
   ]
  },
  {
   "cell_type": "code",
   "execution_count": 19,
   "metadata": {},
   "outputs": [
    {
     "name": "stdout",
     "output_type": "stream",
     "text": [
      "[[7 2 5]\n",
      " [1 5 9]\n",
      " [3 8 6]]\n"
     ]
    },
    {
     "data": {
      "text/plain": [
       "array([[7, 1, 3],\n",
       "       [2, 5, 8],\n",
       "       [5, 9, 6]])"
      ]
     },
     "execution_count": 19,
     "metadata": {},
     "output_type": "execute_result"
    }
   ],
   "source": [
    "print(a)\n",
    "a_transpose = a.transpose()\n",
    "a_transpose"
   ]
  },
  {
   "cell_type": "markdown",
   "metadata": {},
   "source": [
    "6. Create an array of 3*3 and find index of max along both axis."
   ]
  },
  {
   "cell_type": "code",
   "execution_count": 31,
   "metadata": {},
   "outputs": [
    {
     "name": "stdout",
     "output_type": "stream",
     "text": [
      "[[ 1 13 10  4 18]\n",
      " [ 1  8 12 12 19]\n",
      " [10 17  8  7 11]\n",
      " [10  7 18  4 12]\n",
      " [ 3 13 16  5  8]]\n",
      "[2 2 3 1 1] [4 4 1 2 2]\n"
     ]
    }
   ],
   "source": [
    "print(a)\n",
    "max_a_col = a.argmax(axis = 0)\n",
    "max_a_row = a.argmax(axis = 1)\n",
    "print(max_a_col, max_a_row)"
   ]
  },
  {
   "cell_type": "markdown",
   "metadata": {},
   "source": [
    "7. find sum of two matrix."
   ]
  },
  {
   "cell_type": "code",
   "execution_count": 21,
   "metadata": {},
   "outputs": [
    {
     "name": "stdout",
     "output_type": "stream",
     "text": [
      "[[7 2 5]\n",
      " [1 5 9]\n",
      " [3 8 6]]\n",
      "[[7 8 2]\n",
      " [6 3 9]\n",
      " [6 2 4]]\n"
     ]
    },
    {
     "data": {
      "text/plain": [
       "array([[14, 10,  7],\n",
       "       [ 7,  8, 18],\n",
       "       [ 9, 10, 10]])"
      ]
     },
     "execution_count": 21,
     "metadata": {},
     "output_type": "execute_result"
    }
   ],
   "source": [
    "print(a)\n",
    "b = np.random.randint(0,10,(3,3))\n",
    "print(b)\n",
    "sum_of_matrix = np.add(a,b)\n",
    "sum_of_matrix"
   ]
  },
  {
   "cell_type": "markdown",
   "metadata": {},
   "source": [
    "8. Find max element along axis=0 and axis=1."
   ]
  },
  {
   "cell_type": "code",
   "execution_count": 28,
   "metadata": {},
   "outputs": [
    {
     "name": "stdout",
     "output_type": "stream",
     "text": [
      "[[ 1 13 10  4 18]\n",
      " [ 1  8 12 12 19]\n",
      " [10 17  8  7 11]\n",
      " [10  7 18  4 12]\n",
      " [ 3 13 16  5  8]]\n",
      "[10 17 18 12 19] [18 19 17 18 16]\n"
     ]
    }
   ],
   "source": [
    "a = np.random.randint(1,20,(5,5))\n",
    "print(a)\n",
    "max_0 = np.max(a,axis = 0)\n",
    "max_1 = np.max(a,axis = 1)\n",
    "print(max_0, max_1)"
   ]
  },
  {
   "cell_type": "markdown",
   "metadata": {},
   "source": [
    "9. Write a program to add two arrays of different shape."
   ]
  },
  {
   "cell_type": "code",
   "execution_count": 4,
   "metadata": {},
   "outputs": [
    {
     "data": {
      "text/plain": [
       "array([[ 6, 17, 11, 13, 17],\n",
       "       [19, 19,  4, 16, 21],\n",
       "       [18, 14, 12, 16, 22],\n",
       "       [12,  8, 19, 23, 13],\n",
       "       [13, 14, 13, 11, 21]])"
      ]
     },
     "execution_count": 4,
     "metadata": {},
     "output_type": "execute_result"
    }
   ],
   "source": [
    "import numpy as np\n",
    "i = np.random.randint(1,20,(5,5))\n",
    "j = np.array([1,2,3,4,5])\n",
    "i+ j[:, np.newaxis]"
   ]
  },
  {
   "cell_type": "markdown",
   "metadata": {},
   "source": [
    "10. Try to solve a array and print a array with indices which would sort the given array.\n",
    "\n",
    "sample input:\n",
    "\n",
    "a = [3,1,8,2]\n",
    "\n",
    "output:\n",
    "\n",
    "[1,3,0,2]"
   ]
  },
  {
   "cell_type": "code",
   "execution_count": 5,
   "metadata": {},
   "outputs": [
    {
     "data": {
      "text/plain": [
       "array([1, 3, 0, 2], dtype=int64)"
      ]
     },
     "execution_count": 5,
     "metadata": {},
     "output_type": "execute_result"
    }
   ],
   "source": [
    "a = np.array([3,1,8,2])\n",
    "b = np.argsort(a)\n",
    "b"
   ]
  },
  {
   "cell_type": "markdown",
   "metadata": {},
   "source": [
    "11. Try to do perform same operation mentioned in previous questions for multidimentional array along both axis."
   ]
  },
  {
   "cell_type": "code",
   "execution_count": 7,
   "metadata": {},
   "outputs": [
    {
     "name": "stdout",
     "output_type": "stream",
     "text": [
      "[[ 5 16 10 12 16]\n",
      " [17 17  2 14 19]\n",
      " [15 11  9 13 19]\n",
      " [ 8  4 15 19  9]\n",
      " [ 8  9  8  6 16]]\n",
      "[[0 2 3 1 4]\n",
      " [2 3 0 1 4]\n",
      " [2 1 3 0 4]\n",
      " [1 0 4 2 3]\n",
      " [3 0 2 1 4]]\n",
      "[[0 3 1 4 3]\n",
      " [3 4 4 0 0]\n",
      " [4 2 2 2 4]\n",
      " [2 0 0 1 1]\n",
      " [1 1 3 3 2]]\n"
     ]
    }
   ],
   "source": [
    "print(i)\n",
    "i_row = np.argsort(i, axis = 1)\n",
    "i_col = np.argsort(i, axis = 0)\n",
    "print(i_row)\n",
    "print(i_col)"
   ]
  },
  {
   "cell_type": "markdown",
   "metadata": {},
   "source": [
    "12. calculate multiplication of transpose and matrix itself of a 3*3 matrix."
   ]
  },
  {
   "cell_type": "code",
   "execution_count": 9,
   "metadata": {},
   "outputs": [
    {
     "name": "stdout",
     "output_type": "stream",
     "text": [
      "[[4 4 3]\n",
      " [3 1 2]\n",
      " [6 8 5]]\n",
      "[[4 3 1]\n",
      " [1 5 3]\n",
      " [3 1 5]]\n"
     ]
    },
    {
     "data": {
      "text/plain": [
       "array([[16, 12, 18],\n",
       "       [12,  1, 16],\n",
       "       [18, 16, 25]])"
      ]
     },
     "execution_count": 9,
     "metadata": {},
     "output_type": "execute_result"
    }
   ],
   "source": [
    "a = np.random.randint(1,10,(3,3))\n",
    "print(a)\n",
    "print(b)\n",
    "b = np.transpose(a)\n",
    "a*b"
   ]
  },
  {
   "cell_type": "markdown",
   "metadata": {},
   "source": [
    "13. Find solution for given linear equstion:\n",
    "\n",
    "2x + 5y = 28 4x + 3*y = 81\n"
   ]
  },
  {
   "cell_type": "code",
   "execution_count": 10,
   "metadata": {},
   "outputs": [
    {
     "data": {
      "text/plain": [
       "array([22.92857143, -3.57142857])"
      ]
     },
     "execution_count": 10,
     "metadata": {},
     "output_type": "execute_result"
    }
   ],
   "source": [
    "a = np.array([[2,5],[4,3]])\n",
    "b = np.array([28, 81])\n",
    "np.linalg.solve(a,b)"
   ]
  },
  {
   "cell_type": "markdown",
   "metadata": {},
   "source": [
    "14. Find Rank, Trace, Inverse, Determinant of a given matrix.\n",
    "\n",
    "A=[[1, 1, 1], [2, 2, 2], [3, 3, 3]])"
   ]
  },
  {
   "cell_type": "code",
   "execution_count": 17,
   "metadata": {},
   "outputs": [
    {
     "name": "stdout",
     "output_type": "stream",
     "text": [
      "[[1 6 3]\n",
      " [2 8 3]\n",
      " [3 9 1]]\n",
      "rank =  3\n",
      "trace =  10\n",
      " inverse =  [[-3.8  4.2 -1.2]\n",
      " [ 1.4 -1.6  0.6]\n",
      " [-1.2  1.8 -0.8]]\n",
      "Determinant =  4.999999999999998\n"
     ]
    }
   ],
   "source": [
    "A=np.array([[1, 6, 3], [2, 8, 3], [3, 9, 1]])\n",
    "print(A)\n",
    "print(\"rank = \", np.linalg.matrix_rank(A))\n",
    "print(\"trace = \", np.trace(A))\n",
    "print(\" inverse = \", np.linalg.inv(A))\n",
    "print(\"Determinant = \", np.linalg.det(A))"
   ]
  },
  {
   "cell_type": "markdown",
   "metadata": {},
   "source": [
    "15. Find cube of a mtrix."
   ]
  },
  {
   "cell_type": "code",
   "execution_count": 18,
   "metadata": {},
   "outputs": [
    {
     "name": "stdout",
     "output_type": "stream",
     "text": [
      "[[1 6 3]\n",
      " [2 8 3]\n",
      " [3 9 1]]\n"
     ]
    },
    {
     "data": {
      "text/plain": [
       "array([[ 256,  996,  333],\n",
       "       [ 332, 1283,  423],\n",
       "       [ 333, 1269,  406]])"
      ]
     },
     "execution_count": 18,
     "metadata": {},
     "output_type": "execute_result"
    }
   ],
   "source": [
    "print(A)\n",
    "np.linalg.matrix_power(A, 3)"
   ]
  }
 ],
 "metadata": {
  "kernelspec": {
   "display_name": "Python 3",
   "language": "python",
   "name": "python3"
  },
  "language_info": {
   "codemirror_mode": {
    "name": "ipython",
    "version": 3
   },
   "file_extension": ".py",
   "mimetype": "text/x-python",
   "name": "python",
   "nbconvert_exporter": "python",
   "pygments_lexer": "ipython3",
   "version": "3.7.5"
  }
 },
 "nbformat": 4,
 "nbformat_minor": 2
}
